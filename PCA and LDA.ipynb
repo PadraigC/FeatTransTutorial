{
 "cells": [
  {
   "cell_type": "markdown",
   "id": "fccdd7b0",
   "metadata": {},
   "source": [
    "# Feature Transformations\n",
    "Python Notebook to accompany a Towards Data Science article on Feature Transformations.\n",
    "\n",
    "1. An example of currency conversion as feature transformation\n",
    "2. Principle Components Analysis (PCA) from `first principles`\n",
    "3. Principle Components Analysis in `scikit learn`\n",
    "4. Linear Discriminant Analysis in `scikit learn`"
   ]
  },
  {
   "cell_type": "markdown",
   "id": "b1202353",
   "metadata": {},
   "source": [
    "### Currency Conversion\n",
    "The `cur` array represents three sets of debts in $ and £.   \n",
    "The `er` array contains the exchange rates to €."
   ]
  },
  {
   "cell_type": "code",
   "execution_count": 1,
   "id": "7dc06951",
   "metadata": {},
   "outputs": [
    {
     "data": {
      "text/plain": [
       "array([19.7 , 35.85, 55.55])"
      ]
     },
     "execution_count": 1,
     "metadata": {},
     "output_type": "execute_result"
    }
   ],
   "source": [
    "import numpy as np\n",
    "\n",
    "cur = np.array([[5,15],\n",
    "                [15,20],\n",
    "                [20,35]])\n",
    "\n",
    "er = np.array([1.15,0.93])\n",
    "\n",
    "cur.dot(er)"
   ]
  },
  {
   "cell_type": "markdown",
   "id": "362c5a11",
   "metadata": {},
   "source": [
    "### PCA from first principles"
   ]
  },
  {
   "cell_type": "code",
   "execution_count": 2,
   "id": "e4a34dae",
   "metadata": {},
   "outputs": [
    {
     "data": {
      "text/html": [
       "<div>\n",
       "<style scoped>\n",
       "    .dataframe tbody tr th:only-of-type {\n",
       "        vertical-align: middle;\n",
       "    }\n",
       "\n",
       "    .dataframe tbody tr th {\n",
       "        vertical-align: top;\n",
       "    }\n",
       "\n",
       "    .dataframe thead th {\n",
       "        text-align: right;\n",
       "    }\n",
       "</style>\n",
       "<table border=\"1\" class=\"dataframe\">\n",
       "  <thead>\n",
       "    <tr style=\"text-align: right;\">\n",
       "      <th></th>\n",
       "      <th>Name</th>\n",
       "      <th>Magic</th>\n",
       "      <th>Cunning</th>\n",
       "      <th>Courage</th>\n",
       "      <th>Wisdom</th>\n",
       "      <th>Temper</th>\n",
       "    </tr>\n",
       "  </thead>\n",
       "  <tbody>\n",
       "    <tr>\n",
       "      <th>0</th>\n",
       "      <td>Harry</td>\n",
       "      <td>62</td>\n",
       "      <td>21</td>\n",
       "      <td>42</td>\n",
       "      <td>26</td>\n",
       "      <td>7</td>\n",
       "    </tr>\n",
       "    <tr>\n",
       "      <th>1</th>\n",
       "      <td>Hermione</td>\n",
       "      <td>60</td>\n",
       "      <td>16</td>\n",
       "      <td>40</td>\n",
       "      <td>73</td>\n",
       "      <td>2</td>\n",
       "    </tr>\n",
       "    <tr>\n",
       "      <th>2</th>\n",
       "      <td>Ron Weasley</td>\n",
       "      <td>45</td>\n",
       "      <td>14</td>\n",
       "      <td>40</td>\n",
       "      <td>22</td>\n",
       "      <td>4</td>\n",
       "    </tr>\n",
       "    <tr>\n",
       "      <th>3</th>\n",
       "      <td>Prof D</td>\n",
       "      <td>105</td>\n",
       "      <td>24</td>\n",
       "      <td>39</td>\n",
       "      <td>82</td>\n",
       "      <td>0</td>\n",
       "    </tr>\n",
       "    <tr>\n",
       "      <th>4</th>\n",
       "      <td>Snape</td>\n",
       "      <td>85</td>\n",
       "      <td>24</td>\n",
       "      <td>19</td>\n",
       "      <td>71</td>\n",
       "      <td>7</td>\n",
       "    </tr>\n",
       "    <tr>\n",
       "      <th>5</th>\n",
       "      <td>Prof McG</td>\n",
       "      <td>95</td>\n",
       "      <td>19</td>\n",
       "      <td>29</td>\n",
       "      <td>76</td>\n",
       "      <td>5</td>\n",
       "    </tr>\n",
       "    <tr>\n",
       "      <th>6</th>\n",
       "      <td>Moody</td>\n",
       "      <td>82</td>\n",
       "      <td>20</td>\n",
       "      <td>35</td>\n",
       "      <td>69</td>\n",
       "      <td>5</td>\n",
       "    </tr>\n",
       "    <tr>\n",
       "      <th>7</th>\n",
       "      <td>Hagrid</td>\n",
       "      <td>12</td>\n",
       "      <td>11</td>\n",
       "      <td>30</td>\n",
       "      <td>8</td>\n",
       "      <td>7</td>\n",
       "    </tr>\n",
       "    <tr>\n",
       "      <th>8</th>\n",
       "      <td>Fred W</td>\n",
       "      <td>87</td>\n",
       "      <td>13</td>\n",
       "      <td>30</td>\n",
       "      <td>22</td>\n",
       "      <td>4</td>\n",
       "    </tr>\n",
       "    <tr>\n",
       "      <th>9</th>\n",
       "      <td>George W</td>\n",
       "      <td>87</td>\n",
       "      <td>13</td>\n",
       "      <td>30</td>\n",
       "      <td>22</td>\n",
       "      <td>4</td>\n",
       "    </tr>\n",
       "    <tr>\n",
       "      <th>10</th>\n",
       "      <td>Arthur W</td>\n",
       "      <td>62</td>\n",
       "      <td>5</td>\n",
       "      <td>29</td>\n",
       "      <td>60</td>\n",
       "      <td>2</td>\n",
       "    </tr>\n",
       "    <tr>\n",
       "      <th>11</th>\n",
       "      <td>Crabbe</td>\n",
       "      <td>10</td>\n",
       "      <td>13</td>\n",
       "      <td>8</td>\n",
       "      <td>4</td>\n",
       "      <td>7</td>\n",
       "    </tr>\n",
       "    <tr>\n",
       "      <th>12</th>\n",
       "      <td>Draco Malfoy</td>\n",
       "      <td>42</td>\n",
       "      <td>22</td>\n",
       "      <td>10</td>\n",
       "      <td>12</td>\n",
       "      <td>9</td>\n",
       "    </tr>\n",
       "    <tr>\n",
       "      <th>13</th>\n",
       "      <td>Goyle</td>\n",
       "      <td>10</td>\n",
       "      <td>14</td>\n",
       "      <td>7</td>\n",
       "      <td>2</td>\n",
       "      <td>8</td>\n",
       "    </tr>\n",
       "    <tr>\n",
       "      <th>14</th>\n",
       "      <td>Padma P</td>\n",
       "      <td>24</td>\n",
       "      <td>9</td>\n",
       "      <td>23</td>\n",
       "      <td>13</td>\n",
       "      <td>1</td>\n",
       "    </tr>\n",
       "    <tr>\n",
       "      <th>15</th>\n",
       "      <td>Parvati</td>\n",
       "      <td>24</td>\n",
       "      <td>11</td>\n",
       "      <td>23</td>\n",
       "      <td>15</td>\n",
       "      <td>2</td>\n",
       "    </tr>\n",
       "    <tr>\n",
       "      <th>16</th>\n",
       "      <td>Fleur D</td>\n",
       "      <td>59</td>\n",
       "      <td>19</td>\n",
       "      <td>36</td>\n",
       "      <td>54</td>\n",
       "      <td>6</td>\n",
       "    </tr>\n",
       "    <tr>\n",
       "      <th>17</th>\n",
       "      <td>Cho</td>\n",
       "      <td>40</td>\n",
       "      <td>8</td>\n",
       "      <td>25</td>\n",
       "      <td>31</td>\n",
       "      <td>3</td>\n",
       "    </tr>\n",
       "    <tr>\n",
       "      <th>18</th>\n",
       "      <td>Cedric Diggory</td>\n",
       "      <td>58</td>\n",
       "      <td>23</td>\n",
       "      <td>40</td>\n",
       "      <td>55</td>\n",
       "      <td>2</td>\n",
       "    </tr>\n",
       "    <tr>\n",
       "      <th>19</th>\n",
       "      <td>Viktor Krum</td>\n",
       "      <td>56</td>\n",
       "      <td>22</td>\n",
       "      <td>38</td>\n",
       "      <td>30</td>\n",
       "      <td>7</td>\n",
       "    </tr>\n",
       "  </tbody>\n",
       "</table>\n",
       "</div>"
      ],
      "text/plain": [
       "              Name   Magic   Cunning   Courage   Wisdom   Temper\n",
       "0            Harry      62        21        42       26        7\n",
       "1         Hermione      60        16        40       73        2\n",
       "2      Ron Weasley      45        14        40       22        4\n",
       "3           Prof D     105        24        39       82        0\n",
       "4            Snape      85        24        19       71        7\n",
       "5         Prof McG      95        19        29       76        5\n",
       "6            Moody      82        20        35       69        5\n",
       "7           Hagrid      12        11        30        8        7\n",
       "8           Fred W      87        13        30       22        4\n",
       "9         George W      87        13        30       22        4\n",
       "10        Arthur W      62         5        29       60        2\n",
       "11          Crabbe      10        13         8        4        7\n",
       "12    Draco Malfoy      42        22        10       12        9\n",
       "13           Goyle      10        14         7        2        8\n",
       "14         Padma P      24         9        23       13        1\n",
       "15         Parvati      24        11        23       15        2\n",
       "16         Fleur D      59        19        36       54        6\n",
       "17             Cho      40         8        25       31        3\n",
       "18  Cedric Diggory      58        23        40       55        2\n",
       "19     Viktor Krum      56        22        38       30        7"
      ]
     },
     "execution_count": 2,
     "metadata": {},
     "output_type": "execute_result"
    }
   ],
   "source": [
    "import pandas as pd\n",
    "TT_df = pd.read_csv('HarryPotterTT.csv')\n",
    "Y_df = TT_df.copy()\n",
    "Y_df.head(20)"
   ]
  },
  {
   "cell_type": "code",
   "execution_count": 3,
   "id": "a4fbe72c",
   "metadata": {},
   "outputs": [],
   "source": [
    "# Drop the Name column\n",
    "names = Y_df.pop('Name')\n",
    "# Applying N(0,1) scaling: subtract mean, divide by std deviation.\n",
    "Z_df = (Y_df - Y_df.mean())/Y_df.std()\n",
    "Z = Z_df.values\n",
    "Z_T = Z.transpose()"
   ]
  },
  {
   "cell_type": "code",
   "execution_count": 4,
   "id": "174eb56b",
   "metadata": {},
   "outputs": [
    {
     "data": {
      "text/plain": [
       "array([[ 1.        ,  0.55115896,  0.36453448,  0.7785219 , -0.09438799],\n",
       "       [ 0.55115896,  1.        ,  0.11704699,  0.49743316,  0.40345093],\n",
       "       [ 0.36453448,  0.11704699,  1.        ,  0.38823344, -0.49402934],\n",
       "       [ 0.7785219 ,  0.49743316,  0.38823344,  1.        , -0.23629779],\n",
       "       [-0.09438799,  0.40345093, -0.49402934, -0.23629779,  1.        ]])"
      ]
     },
     "execution_count": 4,
     "metadata": {},
     "output_type": "execute_result"
    }
   ],
   "source": [
    "# Get the covariance matrix\n",
    "C = Z_T.dot(Z)/(Z.shape[0]-1)\n",
    "C"
   ]
  },
  {
   "cell_type": "code",
   "execution_count": 5,
   "id": "19a903a2",
   "metadata": {},
   "outputs": [
    {
     "data": {
      "text/plain": [
       "array([0.48877025, 0.31551511, 0.10842469, 0.03713814, 0.0501518 ])"
      ]
     },
     "execution_count": 5,
     "metadata": {},
     "output_type": "execute_result"
    }
   ],
   "source": [
    "# Perform the eigendecomposition\n",
    "ev, evec = np.linalg.eig(C)\n",
    "ev/ev.sum()"
   ]
  },
  {
   "cell_type": "code",
   "execution_count": 6,
   "id": "a91dc993",
   "metadata": {},
   "outputs": [
    {
     "data": {
      "text/plain": [
       "array([[-0.57407296, -0.10834723],\n",
       "       [-0.40754714, -0.52231617],\n",
       "       [-0.3846298 ,  0.44046049],\n",
       "       [-0.57788956, -0.0043925 ],\n",
       "       [ 0.14983036, -0.72209553]])"
      ]
     },
     "execution_count": 6,
     "metadata": {},
     "output_type": "execute_result"
    }
   ],
   "source": [
    "# Select the first two eigenvectors (PCs)\n",
    "P = evec[:,0:2]\n",
    "P"
   ]
  },
  {
   "cell_type": "code",
   "execution_count": 7,
   "id": "c106e170",
   "metadata": {},
   "outputs": [],
   "source": [
    "# Project the data in Z into two dimensions\n",
    "X_dash = Z.dot(P)"
   ]
  },
  {
   "cell_type": "markdown",
   "id": "0539d8e7",
   "metadata": {},
   "source": [
    "### Plot the data in 2D"
   ]
  },
  {
   "cell_type": "code",
   "execution_count": 8,
   "id": "02a97d5f",
   "metadata": {},
   "outputs": [
    {
     "data": {
      "image/png": "[encoded data removed]",
      "text/plain": [
       "<Figure size 576x432 with 1 Axes>"
      ]
     },
     "metadata": {
      "needs_background": "light"
     },
     "output_type": "display_data"
    }
   ],
   "source": [
    "import matplotlib.pyplot as plt\n",
    "\n",
    "plt.figure(figsize=(8,6))\n",
    "\n",
    "labels = names\n",
    "\n",
    "plt.scatter(X_dash[:, 0], X_dash[:, 1])\n",
    "\n",
    "for label, xi, yi in zip(labels, X_dash[:, 0], X_dash[:, 1]):\n",
    "    plt.annotate(\n",
    "        label,\n",
    "        xy=(xi, yi), xytext=(-3, 3),\n",
    "        textcoords='offset points', ha='right', va='bottom')\n",
    "\n",
    "plt.xlabel('PC1 (49%)')\n",
    "plt.ylabel('PC2 (32%)')\n",
    "plt.title('PCA of HP dataset')\n",
    "plt.savefig('HP2D.png')\n",
    "plt.show()"
   ]
  },
  {
   "cell_type": "markdown",
   "id": "300ae86b",
   "metadata": {},
   "source": [
    "### PCA in scikit-learn\n",
    "We can use the implementation of PCA in `scikit-learn` to do this more easily. "
   ]
  },
  {
   "cell_type": "code",
   "execution_count": 9,
   "id": "2d305d6e",
   "metadata": {},
   "outputs": [],
   "source": [
    "from sklearn.decomposition import PCA\n",
    "from sklearn.preprocessing import StandardScaler\n",
    "TT_df = pd.read_csv('HarryPotterTT.csv')\n",
    "\n",
    "Y_d = TT_df.pop('Name').values\n",
    "X = Y_df.values\n",
    "X_scal = StandardScaler().fit_transform(X)"
   ]
  },
  {
   "cell_type": "code",
   "execution_count": 10,
   "id": "3b95702c",
   "metadata": {},
   "outputs": [
    {
     "data": {
      "text/plain": [
       "array([0.48877025, 0.31551511])"
      ]
     },
     "execution_count": 10,
     "metadata": {},
     "output_type": "execute_result"
    }
   ],
   "source": [
    "pcaHP = PCA(n_components=2)\n",
    "X_r = pcaHP.fit(X_scal).transform(X_scal)\n",
    "pcaHP.explained_variance_ratio_"
   ]
  },
  {
   "cell_type": "code",
   "execution_count": 11,
   "id": "efd3586c",
   "metadata": {},
   "outputs": [
    {
     "data": {
      "image/png": "[encoded data removed]",
      "text/plain": [
       "<Figure size 576x432 with 1 Axes>"
      ]
     },
     "metadata": {
      "needs_background": "light"
     },
     "output_type": "display_data"
    }
   ],
   "source": [
    "plt.figure(figsize=(8,6))\n",
    "\n",
    "labels = names\n",
    "\n",
    "plt.scatter(X_r[:, 0], X_r[:, 1])\n",
    "\n",
    "for label, xi, yi in zip(labels, X_r[:, 0], X_r[:, 1]):\n",
    "    plt.annotate(\n",
    "        label,\n",
    "        xy=(xi, yi), xytext=(-3, 3),\n",
    "        textcoords='offset points', ha='right', va='bottom')\n",
    "\n",
    "plt.xlabel('PC1 (49%)')\n",
    "plt.ylabel('PC2 (32%)')\n",
    "plt.title('PCA of HP dataset')\n",
    "plt.savefig('HP2D.png')\n",
    "plt.show()"
   ]
  },
  {
   "cell_type": "markdown",
   "id": "bef6c392",
   "metadata": {},
   "source": [
    "### Linear Discriminant Analysis (LDA)\n",
    "LDA is a *supervised* feature transformation method that takes class labels into account. \n",
    "- First we load the penguins dataset.\n",
    "- We show how PCA on this dataset does not separate the classes.\n",
    "- We show that LDA does a good job of separating the classes."
   ]
  },
  {
   "cell_type": "code",
   "execution_count": 12,
   "id": "64ad6f5e",
   "metadata": {},
   "outputs": [],
   "source": [
    "from collections import Counter\n",
    "from sklearn.discriminant_analysis import LinearDiscriminantAnalysis"
   ]
  },
  {
   "cell_type": "code",
   "execution_count": 13,
   "id": "09b8d974",
   "metadata": {},
   "outputs": [
    {
     "name": "stdout",
     "output_type": "stream",
     "text": [
      "(333, 4)\n"
     ]
    },
    {
     "data": {
      "text/html": [
       "<div>\n",
       "<style scoped>\n",
       "    .dataframe tbody tr th:only-of-type {\n",
       "        vertical-align: middle;\n",
       "    }\n",
       "\n",
       "    .dataframe tbody tr th {\n",
       "        vertical-align: top;\n",
       "    }\n",
       "\n",
       "    .dataframe thead th {\n",
       "        text-align: right;\n",
       "    }\n",
       "</style>\n",
       "<table border=\"1\" class=\"dataframe\">\n",
       "  <thead>\n",
       "    <tr style=\"text-align: right;\">\n",
       "      <th></th>\n",
       "      <th>bill_length</th>\n",
       "      <th>bill_depth</th>\n",
       "      <th>flipper_length</th>\n",
       "      <th>body_mass</th>\n",
       "    </tr>\n",
       "  </thead>\n",
       "  <tbody>\n",
       "    <tr>\n",
       "      <th>0</th>\n",
       "      <td>39.1</td>\n",
       "      <td>18.7</td>\n",
       "      <td>181.0</td>\n",
       "      <td>3750.0</td>\n",
       "    </tr>\n",
       "    <tr>\n",
       "      <th>1</th>\n",
       "      <td>39.5</td>\n",
       "      <td>17.4</td>\n",
       "      <td>186.0</td>\n",
       "      <td>3800.0</td>\n",
       "    </tr>\n",
       "    <tr>\n",
       "      <th>2</th>\n",
       "      <td>40.3</td>\n",
       "      <td>18.0</td>\n",
       "      <td>195.0</td>\n",
       "      <td>3250.0</td>\n",
       "    </tr>\n",
       "    <tr>\n",
       "      <th>3</th>\n",
       "      <td>36.7</td>\n",
       "      <td>19.3</td>\n",
       "      <td>193.0</td>\n",
       "      <td>3450.0</td>\n",
       "    </tr>\n",
       "    <tr>\n",
       "      <th>4</th>\n",
       "      <td>39.3</td>\n",
       "      <td>20.6</td>\n",
       "      <td>190.0</td>\n",
       "      <td>3650.0</td>\n",
       "    </tr>\n",
       "  </tbody>\n",
       "</table>\n",
       "</div>"
      ],
      "text/plain": [
       "   bill_length  bill_depth  flipper_length  body_mass\n",
       "0         39.1        18.7           181.0     3750.0\n",
       "1         39.5        17.4           186.0     3800.0\n",
       "2         40.3        18.0           195.0     3250.0\n",
       "3         36.7        19.3           193.0     3450.0\n",
       "4         39.3        20.6           190.0     3650.0"
      ]
     },
     "execution_count": 13,
     "metadata": {},
     "output_type": "execute_result"
    }
   ],
   "source": [
    "penguins_df = pd.read_csv('penguins.csv', index_col = 0)\n",
    "y = penguins_df.pop('species').values\n",
    "X = penguins_df.values\n",
    "\n",
    "scaler = StandardScaler()\n",
    "X_scl = scaler.fit_transform(X)\n",
    "\n",
    "feature_names = penguins_df.columns\n",
    "print(penguins_df.shape)\n",
    "penguins_df.head()"
   ]
  },
  {
   "cell_type": "code",
   "execution_count": 14,
   "id": "025be7e9",
   "metadata": {},
   "outputs": [
    {
     "data": {
      "text/plain": [
       "array([0.68633893, 0.19452929])"
      ]
     },
     "execution_count": 14,
     "metadata": {},
     "output_type": "execute_result"
    }
   ],
   "source": [
    "# Perform PCA on the penguins data\n",
    "pca = PCA(n_components=2)\n",
    "X_pca = pca.fit(X_scl).transform(X_scl)\n",
    "pca.explained_variance_ratio_"
   ]
  },
  {
   "cell_type": "code",
   "execution_count": 15,
   "id": "791c6254",
   "metadata": {},
   "outputs": [
    {
     "data": {
      "text/plain": [
       "['Adelie', 'Gentoo', 'Chinstrap']"
      ]
     },
     "execution_count": 15,
     "metadata": {},
     "output_type": "execute_result"
    }
   ],
   "source": [
    "colors = ['navy', 'turquoise', 'darkorange']\n",
    "\n",
    "types = list(Counter(y).keys())\n",
    "types"
   ]
  },
  {
   "cell_type": "code",
   "execution_count": 16,
   "id": "48376524",
   "metadata": {},
   "outputs": [
    {
     "data": {
      "text/plain": [
       "(333, 2)"
      ]
     },
     "execution_count": 16,
     "metadata": {},
     "output_type": "execute_result"
    }
   ],
   "source": [
    "# Perform LDA\n",
    "lda = LinearDiscriminantAnalysis()\n",
    "lda.fit(X, y)\n",
    "X_lda = lda.transform(X)\n",
    "X_lda.shape"
   ]
  },
  {
   "cell_type": "markdown",
   "id": "0f046059",
   "metadata": {},
   "source": [
    "### Plot both PCA and LDA"
   ]
  },
  {
   "cell_type": "code",
   "execution_count": 17,
   "id": "15171c0d",
   "metadata": {},
   "outputs": [
    {
     "data": {
      "image/png": "[encoded data removed]",
      "text/plain": [
       "<Figure size 576x288 with 2 Axes>"
      ]
     },
     "metadata": {
      "needs_background": "light"
     },
     "output_type": "display_data"
    }
   ],
   "source": [
    "fig, (ax1, ax2) = plt.subplots(1, 2, figsize=(8, 4))\n",
    "\n",
    "for color, target_name in zip(colors, types):\n",
    "    ax1.scatter(X_pca[y == target_name, 0], X_pca[y == target_name, 1], \n",
    "                color=color, alpha=.8, label=target_name)\n",
    "\n",
    "ax1.legend(loc='best', shadow=False, scatterpoints=1)\n",
    "\n",
    "ax1.set_xlabel('PC1 (69%)')\n",
    "ax1.set_ylabel('PC2 (19%)')\n",
    "ax1.set_title('PCA')\n",
    "\n",
    "for color, target_name in zip(colors, types):\n",
    "    ax2.scatter(X_lda[y == target_name, 0], X_lda[y == target_name, 1], \n",
    "                color=color, alpha=.8, label=target_name)\n",
    "\n",
    "ax2.legend(loc='lower right', shadow=False, scatterpoints=1)\n",
    "\n",
    "ax2.set_xlabel('PC1 (84%)')\n",
    "ax2.set_ylabel('PC2 (16%)')\n",
    "ax2.set_title('LDA')\n",
    "\n",
    "fig.savefig('PCA-LDA.png')"
   ]
  },
  {
   "cell_type": "code",
   "execution_count": null,
   "id": "6af7b278",
   "metadata": {},
   "outputs": [],
   "source": []
  }
 ],
 "metadata": {
  "kernelspec": {
   "display_name": "Python 3",
   "language": "python",
   "name": "python3"
  },
  "language_info": {
   "codemirror_mode": {
    "name": "ipython",
    "version": 3
   },
   "file_extension": ".py",
   "mimetype": "text/x-python",
   "name": "python",
   "nbconvert_exporter": "python",
   "pygments_lexer": "ipython3",
   "version": "3.8.8"
  }
 },
 "nbformat": 4,
 "nbformat_minor": 5
}
